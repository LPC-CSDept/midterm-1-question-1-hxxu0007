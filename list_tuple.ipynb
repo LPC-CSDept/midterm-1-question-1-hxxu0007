{
 "cells": [
  {
   "cell_type": "code",
   "execution_count": 3,
   "metadata": {},
   "outputs": [
    {
     "name": "stdout",
     "output_type": "stream",
     "text": [
      "[100, 20, 30]\n",
      "[100, 20, 30]\n",
      "[100, 20, 30]\n",
      "[100, 200, 300]\n"
     ]
    },
    {
     "data": {
      "text/plain": [
       "False"
      ]
     },
     "execution_count": 3,
     "metadata": {},
     "output_type": "execute_result"
    }
   ],
   "source": [
    "l1 = [10,20,30]\n",
    "l2 = l1\n",
    "l2[0] = 100\n",
    "print(l1)\n",
    "print(l2)\n",
    "l2 = [100,200,300]\n",
    "print(l1)\n",
    "print(l2)\n",
    "l1 is l2"
   ]
  },
  {
   "cell_type": "code",
   "execution_count": 22,
   "metadata": {},
   "outputs": [
    {
     "name": "stdout",
     "output_type": "stream",
     "text": [
      "20\n",
      "99\n",
      "[20]\n",
      "[0, 0, 0, 0, 0] 5\n"
     ]
    }
   ],
   "source": [
    "num = [10,20,30,30,30,90,45,45,45]\n",
    "print(num[1])\n",
    "num[1] = 99 \n",
    "print(num[1])\n",
    "num = []\n",
    "num.append(20)\n",
    "print(num)\n",
    "num = [0] * 5\n",
    "print(num, num.count(0))  #count the occurrance of 0\n"
   ]
  },
  {
   "cell_type": "markdown",
   "metadata": {},
   "source": []
  },
  {
   "cell_type": "code",
   "execution_count": 22,
   "metadata": {},
   "outputs": [
    {
     "name": "stdout",
     "output_type": "stream",
     "text": [
      "Average is: 20.0, summation is 120, number greater than avg is: 25\n",
      "Average is: 20.0, summation is 120, number greater than avg is: 35\n",
      "Average is: 20.0, summation is 120, number greater than avg is: 40\n",
      "[5, 15, 0, 25, 35, 40] 20.0\n"
     ]
    }
   ],
   "source": [
    "numbers = [5,15,0,25,35,40]\n",
    "summation = 0\n",
    "for i in range(len(numbers)):\n",
    "    summation += numbers[i]\n",
    "average = summation / len(numbers)\n",
    "\n",
    "for i in range(len(numbers)):\n",
    "    if(numbers[i] > average):\n",
    "        print(f'Average is: {average}, summation is {summation}, number greater than avg is: {numbers[i]}')\n",
    "print(numbers, summation/len(numbers))"
   ]
  },
  {
   "cell_type": "code",
   "execution_count": 49,
   "metadata": {},
   "outputs": [
    {
     "name": "stdout",
     "output_type": "stream",
     "text": [
      "[0, 1, 2, 3, 4, 5, 6, 7, 8, 9]\n",
      "[10, 11, 12, 13, 14, 15, 16, 17, 18, 19]\n",
      "82\t76\t24\t28\t24\t40\t93 \t\n",
      "19 66\t25 66\t33 \t\n",
      "85 10\t87\n",
      "[0, 1, 2, 3, 4, 5, 6, 7, 8, 9] [82, 76, 24, 28, 24, 40, 93, 19, 66, 25, 66, 33, 85, 10, 87] [] [0, 1, 2, 0, 1, 2]\n"
     ]
    }
   ],
   "source": [
    "import random\n",
    "numbers1 = list(range(10))\n",
    "numbers2 = list(random.randint(1,100) for i in range(15))\n",
    "numbers3 = [0,1,2] * 0\n",
    "numbers4 = [0,1,2] * 2\n",
    "numbers5 = list(range(10))\n",
    "#for each didn't change list value, n is new variable not reference, int non-mutable\n",
    "for n in numbers5:\n",
    "    n += 10\n",
    "print(numbers5)\n",
    "#change list value\n",
    "for i in range(len(numbers5)):\n",
    "    numbers5[i] += 10\n",
    "print(numbers5)\n",
    "for n in numbers2:\n",
    "    if n == numbers2[len(numbers2)-1]:\n",
    "        print(n)\n",
    "    elif n % 2 == 0:\n",
    "        print(n, end = '\\t')\n",
    "    elif n%3 == 0:\n",
    "        print(n, '\\t')\n",
    "    else:\n",
    "        print(n, end=' ')\n",
    "print(numbers1, numbers2, numbers3, numbers4)\n"
   ]
  },
  {
   "cell_type": "code",
   "execution_count": 51,
   "metadata": {},
   "outputs": [],
   "source": [
    "#assign 5 user values to the list, can only run in .py file\n",
    "n = 5\n",
    "numbers = []\n",
    "for i in range(n):\n",
    "    user_input = int(input(\"Enter your input:\"))\n",
    "    numbers.insert(i, user_input)\n",
    "for num in numbers\n",
    "    print(num)"
   ]
  },
  {
   "cell_type": "code",
   "execution_count": 20,
   "metadata": {},
   "outputs": [
    {
     "name": "stdout",
     "output_type": "stream",
     "text": [
      "[1, 2, 3, 4, 5, 6, 6, 5, 4] [4, 5, 6, 6, 5, 4] 4 1\n",
      "[1, 2, 3, 4, 5, 6, 6, 5]\n",
      "[1, 3, 4, 5, 6]\n",
      "[6, 5, 4, 3, 1]\n",
      "[1, 3, 4, 5, 6]\n",
      "[0, 1, 2, 3, 4]\n",
      "[0, 1, 99, 2, 3, 4, 10]\n",
      "None [0, 1, 99, 2, 3, 4, 10, [4, 5, 6, 6, 5, 4], 4, 5, 6, 6, 5, 4]\n"
     ]
    }
   ],
   "source": [
    "l1 = [1,2,3]\n",
    "l2 = [4,5,6,6,5,4]\n",
    "l1.extend(l2)\n",
    "print(l1, l2, l1.index(5), l2.index(5))\n",
    "l1.pop()  #remove the last one\n",
    "print(l1)\n",
    "l1.pop(-1)  #index, first one from right\n",
    "l1.pop(1)   #index, second one from left\n",
    "l1.remove(6)  #value not index\n",
    "print(l1)\n",
    "l1.reverse()\n",
    "print(l1)\n",
    "l1.sort()\n",
    "print(l1)\n",
    "for i in range(5):\n",
    "    l1[i] = i\n",
    "print(l1)\n",
    "l1.append(10)\n",
    "l1.insert(2,99)\n",
    "print(l1)\n",
    "l3 = l1.append(l2)  #this will change l1 as l2 appended to l1 as a list\n",
    "l4 = l1 + l2  #same as l1.extend(l2)\n",
    "print(l3, l4)"
   ]
  },
  {
   "cell_type": "code",
   "execution_count": 16,
   "metadata": {},
   "outputs": [
    {
     "ename": "IndexError",
     "evalue": "list assignment index out of range",
     "output_type": "error",
     "traceback": [
      "\u001b[1;31m---------------------------------------------------------------------------\u001b[0m",
      "\u001b[1;31mIndexError\u001b[0m                                Traceback (most recent call last)",
      "Cell \u001b[1;32mIn[16], line 2\u001b[0m\n\u001b[0;32m      1\u001b[0m num1 \u001b[38;5;241m=\u001b[39m []\n\u001b[1;32m----> 2\u001b[0m num1[\u001b[38;5;241m0\u001b[39m] \u001b[38;5;241m=\u001b[39m \u001b[38;5;241m10\u001b[39m\n",
      "\u001b[1;31mIndexError\u001b[0m: list assignment index out of range"
     ]
    }
   ],
   "source": [
    "num1 = []\n",
    "num1[0] = 10  # ERROR IndexError: list assignment index out of range"
   ]
  },
  {
   "cell_type": "code",
   "execution_count": 26,
   "metadata": {},
   "outputs": [
    {
     "name": "stdout",
     "output_type": "stream",
     "text": [
      "[10, 20, 40, 50]\n"
     ]
    }
   ],
   "source": [
    "num1 = [10,20,30,40]\n",
    "num1.pop(len(num1)-2)\n",
    "num1.insert(10,50) #it just added the the last\n",
    "print(num1)"
   ]
  },
  {
   "cell_type": "code",
   "execution_count": 28,
   "metadata": {},
   "outputs": [
    {
     "name": "stdout",
     "output_type": "stream",
     "text": [
      "[10, 20, 30, 40, 50, 75]\n"
     ]
    }
   ],
   "source": [
    "#insert an item into sorted list. v1\n",
    "num_list = [10,20,30,40,50]\n",
    "add_value = 75\n",
    "\"\"\" flag = 0\n",
    "for i in range(len(num_list)):\n",
    "    if num_list[i] > add_value:\n",
    "        num_list.insert(i, add_value)\n",
    "        flag = 1\n",
    "        break\n",
    "if flag == 0:\n",
    "    num_list.insert(i+1, add_value) \n",
    "print(num_list) \"\"\"   \n",
    "#insert an item into sorted list. v2  for-else\n",
    "for i in range(len(num_list)):\n",
    "    if num_list[i] > add_value:\n",
    "        num_list.insert(i, add_value)\n",
    "        break\n",
    "else:\n",
    "    num_list.insert(i+1, add_value) \n",
    "print(num_list)    "
   ]
  },
  {
   "cell_type": "code",
   "execution_count": 35,
   "metadata": {},
   "outputs": [
    {
     "name": "stdout",
     "output_type": "stream",
     "text": [
      "[7, 18, 41, 50, 57]\n",
      "[57, 50, 41, 18, 7] [7, 18, 41, 50, 57]\n"
     ]
    }
   ],
   "source": [
    "#random, sorted(num), num.sort(), num.reverse(), num.insert(indx,value)\n",
    "import random\n",
    "n = 5\n",
    "rdnums = []\n",
    "for i in range(n):\n",
    "    rdnums.insert(i, random.randint(0,100))\n",
    "rdnums.sort()\n",
    "print(rdnums)\n",
    "rdnums.reverse()\n",
    "sorted_num = sorted(rdnums)\n",
    "print(rdnums, sorted_num)"
   ]
  },
  {
   "cell_type": "code",
   "execution_count": 38,
   "metadata": {},
   "outputs": [
    {
     "name": "stdout",
     "output_type": "stream",
     "text": [
      "Key error: There is no value  19\n"
     ]
    }
   ],
   "source": [
    "nums = [1,3,5,7,9,11,13,15,17,15,13,11,9,7,5,3,1]\n",
    "try:\n",
    "    delete_key = 19\n",
    "    nums.remove(delete_key)\n",
    "except ValueError:\n",
    "    print ('Key error: There is no value ', delete_key)"
   ]
  },
  {
   "cell_type": "code",
   "execution_count": 44,
   "metadata": {},
   "outputs": [
    {
     "name": "stdout",
     "output_type": "stream",
     "text": [
      "[[10, 11, 12, 13, 14], [20, 21, 22, 23, 24], [30, 31, 32, 33, 34]] 12\n",
      "The row 0 summation is 60\n",
      "The row 1 summation is 110\n",
      "The row 2 summation is 160\n"
     ]
    }
   ],
   "source": [
    "a = 10\n",
    "b = a\n",
    "a is b\n",
    "c = 'string'\n",
    "d = c\n",
    "c is d \n",
    "numbers = [ \t[10, 11, 12, 13, 14],\n",
    "\t\t        [20, 21, 22, 23, 24],\n",
    "\t\t        [30, 31, 32, 33, 34]]\n",
    "print(numbers, numbers[0][2])\n",
    "rnum = 3\n",
    "cnum = 5\n",
    "for i in range(rnum):\n",
    "    rsum = 0\n",
    "    for j in range(cnum):   # rsum = sum(numbers[i])\n",
    "        rsum += numbers[i][j]\n",
    "    print('The row {0} summation is {1}'.format(i, rsum))  "
   ]
  },
  {
   "cell_type": "code",
   "execution_count": 46,
   "metadata": {},
   "outputs": [
    {
     "name": "stdout",
     "output_type": "stream",
     "text": [
      "The total cross shape is: 5\n"
     ]
    }
   ],
   "source": [
    "rnum = 10\n",
    "cnum = 10\n",
    "cnt = 0\n",
    "numbers = [ \t[0, 0, 0, 0, 0, 0, 0, 0, 0, 0],\n",
    "\t\t        [0, 1, 0, 0, 0, 1, 0, 0, 1, 0],\n",
    "\t\t        [1, 1, 1, 0, 1, 1, 1, 1, 1, 1],\n",
    "\t\t        [0, 1, 0, 0, 1, 1, 1, 0, 1, 0],\n",
    "\t\t        [0, 1, 0, 0, 0, 1, 0, 1, 0, 0],\n",
    "\t\t        [0, 0, 0, 0, 0, 0, 0, 1, 1, 0],\n",
    "\t\t        [0, 1, 0, 0, 0, 1, 0, 0, 0, 0],\n",
    "\t\t        [0, 1, 1, 1, 0, 1, 0, 0, 1, 0],\n",
    "\t\t        [0, 1, 0, 1, 0, 1, 0, 1, 1, 1],\n",
    "\t\t        [0, 0, 0, 0, 0, 0, 0, 0, 1, 0]]\n",
    "for i in range(1, rnum-1):\n",
    "    for j in range(1, cnum-1):\n",
    "        if(numbers[i][j]):\n",
    "            if(numbers[i-1][j] and numbers[i+1][j] and numbers[i][j-1] and numbers[i][j+1]):\n",
    "                cnt += 1\n",
    "print('The total cross shape is: {0}'.format(cnt))"
   ]
  },
  {
   "cell_type": "code",
   "execution_count": 51,
   "metadata": {},
   "outputs": [
    {
     "name": "stdout",
     "output_type": "stream",
     "text": [
      "1 5 1 5 (1, 2, 3)\n",
      "It contains 5\n",
      "<class 'int'> <class 'tuple'>\n"
     ]
    }
   ],
   "source": [
    "#a tuple is an immutable sequence, it's content can't be changed\n",
    "#index, len, min, max, slicing expression, in, +, *\n",
    "#don't support append, remove, insert, reverse, sort\n",
    "my_tuple = (1,2,3,4,5)   #my_tuple[0] = 0, del my_tuple[0] will give error\n",
    "print(my_tuple[0], len(my_tuple), min(my_tuple), max(my_tuple), my_tuple[:3])\n",
    "if 5 in my_tuple:\n",
    "    print (\"It contains 5\")\n",
    "    \n",
    "value1 = (10)\n",
    "value2 = (10,)\n",
    "print(type(value1), type(value2))\n"
   ]
  },
  {
   "cell_type": "code",
   "execution_count": 53,
   "metadata": {},
   "outputs": [
    {
     "name": "stdout",
     "output_type": "stream",
     "text": [
      "[10, 20, 30] (10, 20, 30) (10, 20, 30)\n"
     ]
    }
   ],
   "source": [
    "num_tuples1 = (10,20,30)\n",
    "num_lists1 = list(num_tuples1)\n",
    "num_tuples2 = tuple(num_lists1)\n",
    "print(num_lists1, num_tuples1, num_tuples2)"
   ]
  },
  {
   "cell_type": "code",
   "execution_count": 58,
   "metadata": {},
   "outputs": [
    {
     "name": "stdout",
     "output_type": "stream",
     "text": [
      "0.0\n",
      "1.5\n",
      "3.0\n",
      "4.5\n",
      "6.0\n",
      "7.5\n",
      "9.0\n",
      "10.5\n"
     ]
    }
   ],
   "source": [
    "import numpy as np\n",
    "\n",
    "for i in np.arange(0,10.6,1.5):\n",
    "    print(i)"
   ]
  },
  {
   "cell_type": "code",
   "execution_count": 59,
   "metadata": {},
   "outputs": [
    {
     "name": "stdout",
     "output_type": "stream",
     "text": [
      "2\n",
      "cat\n",
      "2\n",
      "4.5\n",
      "False\n"
     ]
    }
   ],
   "source": [
    "my_list = [\"cat\", 2, 4.5, False]\n",
    "print(my_list[1])\n",
    "for item in my_list:\n",
    "    print(item)\n",
    "for i in range(len(my_list)):\n",
    "    print(my_list[i])\n",
    "my_list.append(\"dog\")\n"
   ]
  }
 ],
 "metadata": {
  "kernelspec": {
   "display_name": "base",
   "language": "python",
   "name": "python3"
  },
  "language_info": {
   "codemirror_mode": {
    "name": "ipython",
    "version": 3
   },
   "file_extension": ".py",
   "mimetype": "text/x-python",
   "name": "python",
   "nbconvert_exporter": "python",
   "pygments_lexer": "ipython3",
   "version": "3.11.7"
  }
 },
 "nbformat": 4,
 "nbformat_minor": 2
}
